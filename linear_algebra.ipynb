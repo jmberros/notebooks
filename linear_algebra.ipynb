{
 "cells": [
  {
   "cell_type": "code",
   "execution_count": 1,
   "metadata": {
    "collapsed": false
   },
   "outputs": [],
   "source": [
    "%matplotlib inline\n",
    "\n",
    "import numpy as np\n",
    "import pandas as pd\n",
    "import seaborn as sns\n",
    "import matplotlib.pyplot as plt\n",
    "from matplotlib.collections import LineCollection\n",
    "from IPython.display import display\n",
    "\n",
    "\n",
    "class LeastSquaresSolution():\n",
    "    def __init__(self, result_dict):\n",
    "        self.result = result_dict\n",
    "        self.df = self._make_df(self.result)\n",
    "        \n",
    "    def pprint(self):\n",
    "        fields = ['input_data', 'x_squared', 'A', 'y', 'At.A', 'At.y', 'x*',\n",
    "                  'c', 'b', 'a', 'equation', 'y*', 'squared_errors', 'residual']\n",
    "        for field in fields:\n",
    "            if field in self.result:\n",
    "                print('{} \\n'.format(field), self.result[field], end='\\n\\n')\n",
    "\n",
    "    @staticmethod\n",
    "    def _make_df(result):\n",
    "        keys = ['x', 'y', 'y*', 'y_minus_y_approximation', 'squared_errors']\n",
    "        df = pd.DataFrame([result[key] for key in keys if key in keys],\n",
    "                          index=keys).transpose()\n",
    "        df['y*'] = df['y*'].astype(float)\n",
    "        df['squared_errors'] = df['squared_errors'].astype(float)\n",
    "        df = df.rename(columns={'y_minus_y_approximation': 'y - y*'})\n",
    "        return df\n",
    "    \n",
    "    def plot(self):\n",
    "        return self.plot_(self.df)\n",
    "        \n",
    "    @staticmethod\n",
    "    def plot_(df):\n",
    "        display(df)\n",
    "        \n",
    "        sns.set_style('darkgrid')\n",
    "        ax = df.plot.scatter('x', 'y', color='tomato', s=40)\n",
    "        df.plot('x', 'y*', alpha=0.5, ax=ax)\n",
    "        ax.set_xlim([min(df['x']) - 1, max(df['x']) + 1])\n",
    "        ax.set_ylim([min(df['y']) - 1, max(df['y']) + 1])\n",
    "\n",
    "        # Connect the original data points with their projections on the regression\n",
    "        starts = df[['x', 'y']].apply(tuple, axis=1)\n",
    "        ends = df[['x', 'y*']].apply(tuple, axis=1)\n",
    "        coordinates = list(zip(starts, ends))\n",
    "        lc = LineCollection(coordinates, colors='tomato', linewidth=1.5)\n",
    "        ax.add_collection(lc)\n",
    "\n",
    "        return ax\n",
    "\n",
    "\n",
    "def solve_least_squares(x_vector, y_vector, verbose=True):\n",
    "    \"\"\"\n",
    "    Expects a list of x values in *x_vector* and a list of y values in *y_vector*.\n",
    "    \"\"\"  \n",
    "    x = np.array(x_vector)\n",
    "    y = np.array(y_vector)\n",
    "    \n",
    "    A = np.vstack([np.ones(len(x)), x]).transpose()\n",
    "    At_A = np.matmul(A.transpose(), A)\n",
    "    At_y = np.dot(A.transpose(), y)\n",
    "    \n",
    "    b, a = np.linalg.solve(At_A, At_y)\n",
    "    y_approximation = a * x + b\n",
    "    y_minus_y_approximation = y - y_approximation\n",
    "    y_minus_y_approximation_squared = np.power(y_minus_y_approximation, 2)\n",
    "    residual = sum(y_minus_y_approximation_squared)\n",
    "\n",
    "    result = {\n",
    "        'input_data': np.array([x, y]),\n",
    "        'x': x,\n",
    "        'y': y,\n",
    "        'A': A,\n",
    "        'At.A': At_A,\n",
    "        'At.y': At_y,\n",
    "        'x*': np.array([b, a]),\n",
    "        'b': b,\n",
    "        'a': a,\n",
    "        'equation': 'y* = {:.3f}x + {:.3f}'.format(a, b),\n",
    "        'y*': ['{:.3f}'.format(n) for n in y_approximation],\n",
    "        'y*_exact': y_approximation,\n",
    "        'y_minus_y_approximation': y_minus_y_approximation,\n",
    "        'squared_errors': ['{:.3f}'.format(n) for n in y_minus_y_approximation_squared],\n",
    "        'residual': residual,\n",
    "    }\n",
    "\n",
    "    return LeastSquaresSolution(result)\n",
    "\n",
    "\n",
    "def solve_least_squares_quadratic(x_vector, y_vector, verbose=True):\n",
    "    x = np.array(x_vector)\n",
    "    x_squared = x * x\n",
    "    y = np.array(y_vector)\n",
    "    \n",
    "    A = np.vstack([np.ones(len(x)), x, x_squared]).transpose()\n",
    "    At_A = np.matmul(A.transpose(), A)\n",
    "    At_y = np.dot(A.transpose(), y)\n",
    "    \n",
    "    c, b, a = np.linalg.solve(At_A, At_y)\n",
    "    y_approximation = a * x_squared + b * x + c\n",
    "    y_minus_y_approximation = y - y_approximation\n",
    "    y_minus_y_approximation_squared = np.power(y_minus_y_approximation, 2)\n",
    "    residual = sum(y_minus_y_approximation_squared)\n",
    "\n",
    "    result = {\n",
    "        'input_data': np.array([x, y]),\n",
    "        'x': x,\n",
    "        'y': y,\n",
    "        'x_squared': x_squared,\n",
    "        'A': A,\n",
    "        'At.A': At_A,\n",
    "        'At.y': At_y,\n",
    "        'x*': np.array([c, b, a]),\n",
    "        'c': c,\n",
    "        'b': b,\n",
    "        'a': a,\n",
    "        'equation': 'y* = {:.3f}x^2 + {:.3f}x + {:.3f}'.format(a, b, c),\n",
    "        'y*': ['{:.3f}'.format(n) for n in y_approximation],\n",
    "        'y_minus_y_approximation': y_minus_y_approximation,\n",
    "        'squared_errors': ['{:.3f}'.format(n) for n in y_minus_y_approximation_squared],\n",
    "        'residual': residual,\n",
    "    }\n",
    "\n",
    "    return LeastSquaresSolution(result)"
   ]
  },
  {
   "cell_type": "code",
   "execution_count": 2,
   "metadata": {
    "collapsed": false
   },
   "outputs": [
    {
     "name": "stdout",
     "output_type": "stream",
     "text": [
      "input_data \n",
      " [[ 0  1 -1  2]\n",
      " [ 1  3  2  4]]\n",
      "\n",
      "A \n",
      " [[ 1.  0.]\n",
      " [ 1.  1.]\n",
      " [ 1. -1.]\n",
      " [ 1.  2.]]\n",
      "\n",
      "y \n",
      " [1 3 2 4]\n",
      "\n",
      "At.A \n",
      " [[ 4.  2.]\n",
      " [ 2.  6.]]\n",
      "\n",
      "At.y \n",
      " [ 10.   9.]\n",
      "\n",
      "x* \n",
      " [ 2.1  0.8]\n",
      "\n",
      "b \n",
      " 2.1\n",
      "\n",
      "a \n",
      " 0.8\n",
      "\n",
      "equation \n",
      " y* = 0.800x + 2.100\n",
      "\n",
      "y* \n",
      " ['2.100', '2.900', '1.300', '3.700']\n",
      "\n",
      "squared_errors \n",
      " ['1.210', '0.010', '0.490', '0.090']\n",
      "\n",
      "residual \n",
      " 1.8\n",
      "\n"
     ]
    },
    {
     "data": {
      "text/html": [
       "<div>\n",
       "<style>\n",
       "    .dataframe thead tr:only-child th {\n",
       "        text-align: right;\n",
       "    }\n",
       "\n",
       "    .dataframe thead th {\n",
       "        text-align: left;\n",
       "    }\n",
       "\n",
       "    .dataframe tbody tr th {\n",
       "        vertical-align: top;\n",
       "    }\n",
       "</style>\n",
       "<table border=\"1\" class=\"dataframe\">\n",
       "  <thead>\n",
       "    <tr style=\"text-align: right;\">\n",
       "      <th></th>\n",
       "      <th>x</th>\n",
       "      <th>y</th>\n",
       "      <th>y*</th>\n",
       "      <th>y - y*</th>\n",
       "      <th>squared_errors</th>\n",
       "    </tr>\n",
       "  </thead>\n",
       "  <tbody>\n",
       "    <tr>\n",
       "      <th>0</th>\n",
       "      <td>0</td>\n",
       "      <td>1</td>\n",
       "      <td>2.1</td>\n",
       "      <td>-1.1</td>\n",
       "      <td>1.21</td>\n",
       "    </tr>\n",
       "    <tr>\n",
       "      <th>1</th>\n",
       "      <td>1</td>\n",
       "      <td>3</td>\n",
       "      <td>2.9</td>\n",
       "      <td>0.1</td>\n",
       "      <td>0.01</td>\n",
       "    </tr>\n",
       "    <tr>\n",
       "      <th>2</th>\n",
       "      <td>-1</td>\n",
       "      <td>2</td>\n",
       "      <td>1.3</td>\n",
       "      <td>0.7</td>\n",
       "      <td>0.49</td>\n",
       "    </tr>\n",
       "    <tr>\n",
       "      <th>3</th>\n",
       "      <td>2</td>\n",
       "      <td>4</td>\n",
       "      <td>3.7</td>\n",
       "      <td>0.3</td>\n",
       "      <td>0.09</td>\n",
       "    </tr>\n",
       "  </tbody>\n",
       "</table>\n",
       "</div>"
      ],
      "text/plain": [
       "    x  y   y* y - y*  squared_errors\n",
       "0   0  1  2.1   -1.1            1.21\n",
       "1   1  3  2.9    0.1            0.01\n",
       "2  -1  2  1.3    0.7            0.49\n",
       "3   2  4  3.7    0.3            0.09"
      ]
     },
     "metadata": {},
     "output_type": "display_data"
    },
    {
     "data": {
      "image/png": "[encoded data removed]",
      "text/plain": [
       "<matplotlib.figure.Figure at 0x7f33003b4b00>"
      ]
     },
     "metadata": {},
     "output_type": "display_data"
    }
   ],
   "source": [
    "# P3.13\n",
    "\n",
    "x = [0, 1, -1, 2]\n",
    "y = [1, 3, 2, 4]\n",
    "\n",
    "result = solve_least_squares(x, y)\n",
    "result.pprint()\n",
    "ax = result.plot()"
   ]
  },
  {
   "cell_type": "code",
   "execution_count": 3,
   "metadata": {
    "collapsed": false
   },
   "outputs": [
    {
     "name": "stdout",
     "output_type": "stream",
     "text": [
      "input_data \n",
      " [[ 6.   4.   8.   5.   3.5]\n",
      " [ 6.5  4.5  7.   5.   4. ]]\n",
      "\n",
      "A \n",
      " [[ 1.   6. ]\n",
      " [ 1.   4. ]\n",
      " [ 1.   8. ]\n",
      " [ 1.   5. ]\n",
      " [ 1.   3.5]]\n",
      "\n",
      "y \n",
      " [ 6.5  4.5  7.   5.   4. ]\n",
      "\n",
      "At.A \n",
      " [[   5.     26.5 ]\n",
      " [  26.5   153.25]]\n",
      "\n",
      "At.y \n",
      " [  27.  152.]\n",
      "\n",
      "x* \n",
      " [ 1.71484375  0.6953125 ]\n",
      "\n",
      "b \n",
      " 1.71484375\n",
      "\n",
      "a \n",
      " 0.6953125\n",
      "\n",
      "equation \n",
      " y* = 0.695x + 1.715\n",
      "\n",
      "y* \n",
      " ['5.887', '4.496', '7.277', '5.191', '4.148']\n",
      "\n",
      "squared_errors \n",
      " ['0.376', '0.000', '0.077', '0.037', '0.022']\n",
      "\n",
      "residual \n",
      " 0.51171875\n",
      "\n"
     ]
    },
    {
     "data": {
      "text/html": [
       "<div>\n",
       "<style>\n",
       "    .dataframe thead tr:only-child th {\n",
       "        text-align: right;\n",
       "    }\n",
       "\n",
       "    .dataframe thead th {\n",
       "        text-align: left;\n",
       "    }\n",
       "\n",
       "    .dataframe tbody tr th {\n",
       "        vertical-align: top;\n",
       "    }\n",
       "</style>\n",
       "<table border=\"1\" class=\"dataframe\">\n",
       "  <thead>\n",
       "    <tr style=\"text-align: right;\">\n",
       "      <th></th>\n",
       "      <th>x</th>\n",
       "      <th>y</th>\n",
       "      <th>y*</th>\n",
       "      <th>y - y*</th>\n",
       "      <th>squared_errors</th>\n",
       "    </tr>\n",
       "  </thead>\n",
       "  <tbody>\n",
       "    <tr>\n",
       "      <th>0</th>\n",
       "      <td>6</td>\n",
       "      <td>6.5</td>\n",
       "      <td>5.887</td>\n",
       "      <td>0.613281</td>\n",
       "      <td>0.376</td>\n",
       "    </tr>\n",
       "    <tr>\n",
       "      <th>1</th>\n",
       "      <td>4</td>\n",
       "      <td>4.5</td>\n",
       "      <td>4.496</td>\n",
       "      <td>0.00390625</td>\n",
       "      <td>0.000</td>\n",
       "    </tr>\n",
       "    <tr>\n",
       "      <th>2</th>\n",
       "      <td>8</td>\n",
       "      <td>7</td>\n",
       "      <td>7.277</td>\n",
       "      <td>-0.277344</td>\n",
       "      <td>0.077</td>\n",
       "    </tr>\n",
       "    <tr>\n",
       "      <th>3</th>\n",
       "      <td>5</td>\n",
       "      <td>5</td>\n",
       "      <td>5.191</td>\n",
       "      <td>-0.191406</td>\n",
       "      <td>0.037</td>\n",
       "    </tr>\n",
       "    <tr>\n",
       "      <th>4</th>\n",
       "      <td>3.5</td>\n",
       "      <td>4</td>\n",
       "      <td>4.148</td>\n",
       "      <td>-0.148438</td>\n",
       "      <td>0.022</td>\n",
       "    </tr>\n",
       "  </tbody>\n",
       "</table>\n",
       "</div>"
      ],
      "text/plain": [
       "     x    y     y*      y - y*  squared_errors\n",
       "0    6  6.5  5.887    0.613281           0.376\n",
       "1    4  4.5  4.496  0.00390625           0.000\n",
       "2    8    7  7.277   -0.277344           0.077\n",
       "3    5    5  5.191   -0.191406           0.037\n",
       "4  3.5    4  4.148   -0.148438           0.022"
      ]
     },
     "metadata": {},
     "output_type": "display_data"
    },
    {
     "data": {
      "text/plain": [
       "<matplotlib.axes._subplots.AxesSubplot at 0x7f330033aba8>"
      ]
     },
     "execution_count": 3,
     "metadata": {},
     "output_type": "execute_result"
    },
    {
     "data": {
      "image/png": "[encoded data removed]",
      "text/plain": [
       "<matplotlib.figure.Figure at 0x7f32c1bbd080>"
      ]
     },
     "metadata": {},
     "output_type": "display_data"
    }
   ],
   "source": [
    "# P3.14\n",
    "\n",
    "x = [6, 4, 8, 5, 3.5]\n",
    "y = [6.5, 4.5, 7, 5, 4]\n",
    "\n",
    "result = solve_least_squares(x, y)\n",
    "result.pprint()\n",
    "result.plot()"
   ]
  },
  {
   "cell_type": "code",
   "execution_count": 4,
   "metadata": {
    "collapsed": false
   },
   "outputs": [
    {
     "name": "stdout",
     "output_type": "stream",
     "text": [
      "input_data \n",
      " [[ 79.    69.    70.    81.    63.    73.  ]\n",
      " [  1.83   1.73   1.68   1.88   1.63   1.78]]\n",
      "\n",
      "A \n",
      " [[  1.  79.]\n",
      " [  1.  69.]\n",
      " [  1.  70.]\n",
      " [  1.  81.]\n",
      " [  1.  63.]\n",
      " [  1.  73.]]\n",
      "\n",
      "y \n",
      " [ 1.83  1.73  1.68  1.88  1.63  1.78]\n",
      "\n",
      "At.A \n",
      " [[  6.00000000e+00   4.35000000e+02]\n",
      " [  4.35000000e+02   3.17610000e+04]]\n",
      "\n",
      "At.y \n",
      " [  10.53  766.45]\n",
      "\n",
      "x* \n",
      " [ 0.77373602  0.01353468]\n",
      "\n",
      "b \n",
      " 0.773736017897\n",
      "\n",
      "a \n",
      " 0.0135346756152\n",
      "\n",
      "equation \n",
      " y* = 0.014x + 0.774\n",
      "\n",
      "y* \n",
      " ['1.843', '1.708', '1.721', '1.870', '1.626', '1.762']\n",
      "\n",
      "squared_errors \n",
      " ['0.000', '0.001', '0.002', '0.000', '0.000', '0.000']\n",
      "\n",
      "residual \n",
      " 0.00280760626398\n",
      "\n"
     ]
    },
    {
     "data": {
      "text/html": [
       "<div>\n",
       "<style>\n",
       "    .dataframe thead tr:only-child th {\n",
       "        text-align: right;\n",
       "    }\n",
       "\n",
       "    .dataframe thead th {\n",
       "        text-align: left;\n",
       "    }\n",
       "\n",
       "    .dataframe tbody tr th {\n",
       "        vertical-align: top;\n",
       "    }\n",
       "</style>\n",
       "<table border=\"1\" class=\"dataframe\">\n",
       "  <thead>\n",
       "    <tr style=\"text-align: right;\">\n",
       "      <th></th>\n",
       "      <th>x</th>\n",
       "      <th>y</th>\n",
       "      <th>y*</th>\n",
       "      <th>y - y*</th>\n",
       "      <th>squared_errors</th>\n",
       "    </tr>\n",
       "  </thead>\n",
       "  <tbody>\n",
       "    <tr>\n",
       "      <th>0</th>\n",
       "      <td>79</td>\n",
       "      <td>1.83</td>\n",
       "      <td>1.843</td>\n",
       "      <td>-0.0129754</td>\n",
       "      <td>0.000</td>\n",
       "    </tr>\n",
       "    <tr>\n",
       "      <th>1</th>\n",
       "      <td>69</td>\n",
       "      <td>1.73</td>\n",
       "      <td>1.708</td>\n",
       "      <td>0.0223714</td>\n",
       "      <td>0.001</td>\n",
       "    </tr>\n",
       "    <tr>\n",
       "      <th>2</th>\n",
       "      <td>70</td>\n",
       "      <td>1.68</td>\n",
       "      <td>1.721</td>\n",
       "      <td>-0.0411633</td>\n",
       "      <td>0.002</td>\n",
       "    </tr>\n",
       "    <tr>\n",
       "      <th>3</th>\n",
       "      <td>81</td>\n",
       "      <td>1.88</td>\n",
       "      <td>1.870</td>\n",
       "      <td>0.00995526</td>\n",
       "      <td>0.000</td>\n",
       "    </tr>\n",
       "    <tr>\n",
       "      <th>4</th>\n",
       "      <td>63</td>\n",
       "      <td>1.63</td>\n",
       "      <td>1.626</td>\n",
       "      <td>0.00357942</td>\n",
       "      <td>0.000</td>\n",
       "    </tr>\n",
       "    <tr>\n",
       "      <th>5</th>\n",
       "      <td>73</td>\n",
       "      <td>1.78</td>\n",
       "      <td>1.762</td>\n",
       "      <td>0.0182327</td>\n",
       "      <td>0.000</td>\n",
       "    </tr>\n",
       "  </tbody>\n",
       "</table>\n",
       "</div>"
      ],
      "text/plain": [
       "    x     y     y*      y - y*  squared_errors\n",
       "0  79  1.83  1.843  -0.0129754           0.000\n",
       "1  69  1.73  1.708   0.0223714           0.001\n",
       "2  70  1.68  1.721  -0.0411633           0.002\n",
       "3  81  1.88  1.870  0.00995526           0.000\n",
       "4  63  1.63  1.626  0.00357942           0.000\n",
       "5  73  1.78  1.762   0.0182327           0.000"
      ]
     },
     "metadata": {},
     "output_type": "display_data"
    },
    {
     "data": {
      "text/plain": [
       "<matplotlib.axes._subplots.AxesSubplot at 0x7f32be193c18>"
      ]
     },
     "execution_count": 4,
     "metadata": {},
     "output_type": "execute_result"
    },
    {
     "data": {
      "image/png": "[encoded data removed]",
      "text/plain": [
       "<matplotlib.figure.Figure at 0x7f32c1bbdba8>"
      ]
     },
     "metadata": {},
     "output_type": "display_data"
    }
   ],
   "source": [
    "# P3.15\n",
    "\n",
    "x = [79, 69, 70, 81, 63, 73]\n",
    "y = [1.83, 1.73, 1.68, 1.88, 1.63, 1.78]\n",
    "\n",
    "result = solve_least_squares(x, y)\n",
    "result.pprint()\n",
    "result.plot()"
   ]
  },
  {
   "cell_type": "code",
   "execution_count": 5,
   "metadata": {
    "collapsed": false
   },
   "outputs": [
    {
     "name": "stdout",
     "output_type": "stream",
     "text": [
      "input_data \n",
      " [[ 1.   2.   3.   4.   5.   6.   7.   8.   9. ]\n",
      " [ 2.1  3.3  3.9  4.4  4.6  4.8  4.6  4.2  3.4]]\n",
      "\n",
      "x_squared \n",
      " [ 1  4  9 16 25 36 49 64 81]\n",
      "\n",
      "A \n",
      " [[  1.   1.   1.]\n",
      " [  1.   2.   4.]\n",
      " [  1.   3.   9.]\n",
      " [  1.   4.  16.]\n",
      " [  1.   5.  25.]\n",
      " [  1.   6.  36.]\n",
      " [  1.   7.  49.]\n",
      " [  1.   8.  64.]\n",
      " [  1.   9.  81.]]\n",
      "\n",
      "y \n",
      " [ 2.1  3.3  3.9  4.4  4.6  4.8  4.6  4.2  3.4]\n",
      "\n",
      "At.A \n",
      " [[  9.00000000e+00   4.50000000e+01   2.85000000e+02]\n",
      " [  4.50000000e+01   2.85000000e+02   2.02500000e+03]\n",
      " [  2.85000000e+02   2.02500000e+03   1.53330000e+04]]\n",
      "\n",
      "At.y \n",
      " [   35.3   186.2  1178.2]\n",
      "\n",
      "x* \n",
      " [ 0.93333333  1.35106061 -0.11893939]\n",
      "\n",
      "c \n",
      " 0.933333333333\n",
      "\n",
      "b \n",
      " 1.35106060606\n",
      "\n",
      "a \n",
      " -0.118939393939\n",
      "\n",
      "equation \n",
      " y* = -0.119x^2 + 1.351x + 0.933\n",
      "\n",
      "y* \n",
      " ['2.165', '3.160', '3.916', '4.435', '4.715', '4.758', '4.563', '4.130', '3.459']\n",
      "\n",
      "squared_errors \n",
      " ['0.004', '0.020', '0.000', '0.001', '0.013', '0.002', '0.001', '0.005', '0.003']\n",
      "\n",
      "residual \n",
      " 0.0502424242424\n",
      "\n"
     ]
    },
    {
     "data": {
      "text/html": [
       "<div>\n",
       "<style>\n",
       "    .dataframe thead tr:only-child th {\n",
       "        text-align: right;\n",
       "    }\n",
       "\n",
       "    .dataframe thead th {\n",
       "        text-align: left;\n",
       "    }\n",
       "\n",
       "    .dataframe tbody tr th {\n",
       "        vertical-align: top;\n",
       "    }\n",
       "</style>\n",
       "<table border=\"1\" class=\"dataframe\">\n",
       "  <thead>\n",
       "    <tr style=\"text-align: right;\">\n",
       "      <th></th>\n",
       "      <th>x</th>\n",
       "      <th>y</th>\n",
       "      <th>y*</th>\n",
       "      <th>y - y*</th>\n",
       "      <th>squared_errors</th>\n",
       "    </tr>\n",
       "  </thead>\n",
       "  <tbody>\n",
       "    <tr>\n",
       "      <th>0</th>\n",
       "      <td>1</td>\n",
       "      <td>2.1</td>\n",
       "      <td>2.165</td>\n",
       "      <td>-0.0654545</td>\n",
       "      <td>0.004</td>\n",
       "    </tr>\n",
       "    <tr>\n",
       "      <th>1</th>\n",
       "      <td>2</td>\n",
       "      <td>3.3</td>\n",
       "      <td>3.160</td>\n",
       "      <td>0.140303</td>\n",
       "      <td>0.020</td>\n",
       "    </tr>\n",
       "    <tr>\n",
       "      <th>2</th>\n",
       "      <td>3</td>\n",
       "      <td>3.9</td>\n",
       "      <td>3.916</td>\n",
       "      <td>-0.0160606</td>\n",
       "      <td>0.000</td>\n",
       "    </tr>\n",
       "    <tr>\n",
       "      <th>3</th>\n",
       "      <td>4</td>\n",
       "      <td>4.4</td>\n",
       "      <td>4.435</td>\n",
       "      <td>-0.0345455</td>\n",
       "      <td>0.001</td>\n",
       "    </tr>\n",
       "    <tr>\n",
       "      <th>4</th>\n",
       "      <td>5</td>\n",
       "      <td>4.6</td>\n",
       "      <td>4.715</td>\n",
       "      <td>-0.115152</td>\n",
       "      <td>0.013</td>\n",
       "    </tr>\n",
       "    <tr>\n",
       "      <th>5</th>\n",
       "      <td>6</td>\n",
       "      <td>4.8</td>\n",
       "      <td>4.758</td>\n",
       "      <td>0.0421212</td>\n",
       "      <td>0.002</td>\n",
       "    </tr>\n",
       "    <tr>\n",
       "      <th>6</th>\n",
       "      <td>7</td>\n",
       "      <td>4.6</td>\n",
       "      <td>4.563</td>\n",
       "      <td>0.0372727</td>\n",
       "      <td>0.001</td>\n",
       "    </tr>\n",
       "    <tr>\n",
       "      <th>7</th>\n",
       "      <td>8</td>\n",
       "      <td>4.2</td>\n",
       "      <td>4.130</td>\n",
       "      <td>0.070303</td>\n",
       "      <td>0.005</td>\n",
       "    </tr>\n",
       "    <tr>\n",
       "      <th>8</th>\n",
       "      <td>9</td>\n",
       "      <td>3.4</td>\n",
       "      <td>3.459</td>\n",
       "      <td>-0.0587879</td>\n",
       "      <td>0.003</td>\n",
       "    </tr>\n",
       "  </tbody>\n",
       "</table>\n",
       "</div>"
      ],
      "text/plain": [
       "   x    y     y*     y - y*  squared_errors\n",
       "0  1  2.1  2.165 -0.0654545           0.004\n",
       "1  2  3.3  3.160   0.140303           0.020\n",
       "2  3  3.9  3.916 -0.0160606           0.000\n",
       "3  4  4.4  4.435 -0.0345455           0.001\n",
       "4  5  4.6  4.715  -0.115152           0.013\n",
       "5  6  4.8  4.758  0.0421212           0.002\n",
       "6  7  4.6  4.563  0.0372727           0.001\n",
       "7  8  4.2  4.130   0.070303           0.005\n",
       "8  9  3.4  3.459 -0.0587879           0.003"
      ]
     },
     "metadata": {},
     "output_type": "display_data"
    },
    {
     "data": {
      "image/png": "[encoded data removed]",
      "text/plain": [
       "<matplotlib.figure.Figure at 0x7f32be2c59b0>"
      ]
     },
     "metadata": {},
     "output_type": "display_data"
    }
   ],
   "source": [
    "# P3.16\n",
    "\n",
    "x = list(range(1, 10))\n",
    "y = [2.1, 3.3, 3.9, 4.4, 4.6, 4.8, 4.6, 4.2, 3.4]\n",
    "\n",
    "result = solve_least_squares_quadratic(x, y)\n",
    "result.pprint()\n",
    "ax = result.plot()"
   ]
  },
  {
   "cell_type": "code",
   "execution_count": 6,
   "metadata": {
    "collapsed": false
   },
   "outputs": [
    {
     "name": "stdout",
     "output_type": "stream",
     "text": [
      "linear solution\n"
     ]
    },
    {
     "data": {
      "text/html": [
       "<div>\n",
       "<style>\n",
       "    .dataframe thead tr:only-child th {\n",
       "        text-align: right;\n",
       "    }\n",
       "\n",
       "    .dataframe thead th {\n",
       "        text-align: left;\n",
       "    }\n",
       "\n",
       "    .dataframe tbody tr th {\n",
       "        vertical-align: top;\n",
       "    }\n",
       "</style>\n",
       "<table border=\"1\" class=\"dataframe\">\n",
       "  <thead>\n",
       "    <tr style=\"text-align: right;\">\n",
       "      <th></th>\n",
       "      <th>x</th>\n",
       "      <th>y</th>\n",
       "      <th>y*</th>\n",
       "      <th>y - y*</th>\n",
       "      <th>squared_errors</th>\n",
       "    </tr>\n",
       "  </thead>\n",
       "  <tbody>\n",
       "    <tr>\n",
       "      <th>0</th>\n",
       "      <td>0</td>\n",
       "      <td>0.6</td>\n",
       "      <td>0.42</td>\n",
       "      <td>0.18</td>\n",
       "      <td>0.032</td>\n",
       "    </tr>\n",
       "    <tr>\n",
       "      <th>1</th>\n",
       "      <td>1</td>\n",
       "      <td>0.5</td>\n",
       "      <td>0.74</td>\n",
       "      <td>-0.24</td>\n",
       "      <td>0.058</td>\n",
       "    </tr>\n",
       "    <tr>\n",
       "      <th>2</th>\n",
       "      <td>2</td>\n",
       "      <td>1</td>\n",
       "      <td>1.06</td>\n",
       "      <td>-0.06</td>\n",
       "      <td>0.004</td>\n",
       "    </tr>\n",
       "    <tr>\n",
       "      <th>3</th>\n",
       "      <td>3</td>\n",
       "      <td>1.5</td>\n",
       "      <td>1.38</td>\n",
       "      <td>0.12</td>\n",
       "      <td>0.014</td>\n",
       "    </tr>\n",
       "  </tbody>\n",
       "</table>\n",
       "</div>"
      ],
      "text/plain": [
       "   x    y    y* y - y*  squared_errors\n",
       "0  0  0.6  0.42   0.18           0.032\n",
       "1  1  0.5  0.74  -0.24           0.058\n",
       "2  2    1  1.06  -0.06           0.004\n",
       "3  3  1.5  1.38   0.12           0.014"
      ]
     },
     "metadata": {},
     "output_type": "display_data"
    },
    {
     "name": "stdout",
     "output_type": "stream",
     "text": [
      "quadratic solution\n"
     ]
    },
    {
     "data": {
      "text/html": [
       "<div>\n",
       "<style>\n",
       "    .dataframe thead tr:only-child th {\n",
       "        text-align: right;\n",
       "    }\n",
       "\n",
       "    .dataframe thead th {\n",
       "        text-align: left;\n",
       "    }\n",
       "\n",
       "    .dataframe tbody tr th {\n",
       "        vertical-align: top;\n",
       "    }\n",
       "</style>\n",
       "<table border=\"1\" class=\"dataframe\">\n",
       "  <thead>\n",
       "    <tr style=\"text-align: right;\">\n",
       "      <th></th>\n",
       "      <th>x</th>\n",
       "      <th>y</th>\n",
       "      <th>y*</th>\n",
       "      <th>y - y*</th>\n",
       "      <th>squared_errors</th>\n",
       "    </tr>\n",
       "  </thead>\n",
       "  <tbody>\n",
       "    <tr>\n",
       "      <th>0</th>\n",
       "      <td>0</td>\n",
       "      <td>0.6</td>\n",
       "      <td>0.57</td>\n",
       "      <td>0.03</td>\n",
       "      <td>0.001</td>\n",
       "    </tr>\n",
       "    <tr>\n",
       "      <th>1</th>\n",
       "      <td>1</td>\n",
       "      <td>0.5</td>\n",
       "      <td>0.59</td>\n",
       "      <td>-0.09</td>\n",
       "      <td>0.008</td>\n",
       "    </tr>\n",
       "    <tr>\n",
       "      <th>2</th>\n",
       "      <td>2</td>\n",
       "      <td>1</td>\n",
       "      <td>0.91</td>\n",
       "      <td>0.09</td>\n",
       "      <td>0.008</td>\n",
       "    </tr>\n",
       "    <tr>\n",
       "      <th>3</th>\n",
       "      <td>3</td>\n",
       "      <td>1.5</td>\n",
       "      <td>1.53</td>\n",
       "      <td>-0.03</td>\n",
       "      <td>0.001</td>\n",
       "    </tr>\n",
       "  </tbody>\n",
       "</table>\n",
       "</div>"
      ],
      "text/plain": [
       "   x    y    y* y - y*  squared_errors\n",
       "0  0  0.6  0.57   0.03           0.001\n",
       "1  1  0.5  0.59  -0.09           0.008\n",
       "2  2    1  0.91   0.09           0.008\n",
       "3  3  1.5  1.53  -0.03           0.001"
      ]
     },
     "metadata": {},
     "output_type": "display_data"
    },
    {
     "data": {
      "text/plain": [
       "<matplotlib.axes._subplots.AxesSubplot at 0x7f32be0f7048>"
      ]
     },
     "execution_count": 6,
     "metadata": {},
     "output_type": "execute_result"
    },
    {
     "data": {
      "image/png": "[encoded data removed]",
      "text/plain": [
       "<matplotlib.figure.Figure at 0x7f32be2e8400>"
      ]
     },
     "metadata": {},
     "output_type": "display_data"
    },
    {
     "data": {
      "image/png": "[encoded data removed]",
      "text/plain": [
       "<matplotlib.figure.Figure at 0x7f32be0ef518>"
      ]
     },
     "metadata": {},
     "output_type": "display_data"
    }
   ],
   "source": [
    "# P3.17\n",
    "\n",
    "x = [0, 1, 2, 3]\n",
    "y = [0.6, 0.5, 1, 1.5]\n",
    "\n",
    "print('linear solution')\n",
    "linear_sol = solve_least_squares(x, y)\n",
    "linear_sol.plot()\n",
    "\n",
    "print('quadratic solution')\n",
    "quadr_sol = solve_least_squares_quadratic(x, y)\n",
    "quadr_sol.plot()"
   ]
  },
  {
   "cell_type": "code",
   "execution_count": 7,
   "metadata": {
    "collapsed": false
   },
   "outputs": [
    {
     "data": {
      "text/html": [
       "<div>\n",
       "<style>\n",
       "    .dataframe thead tr:only-child th {\n",
       "        text-align: right;\n",
       "    }\n",
       "\n",
       "    .dataframe thead th {\n",
       "        text-align: left;\n",
       "    }\n",
       "\n",
       "    .dataframe tbody tr th {\n",
       "        vertical-align: top;\n",
       "    }\n",
       "</style>\n",
       "<table border=\"1\" class=\"dataframe\">\n",
       "  <thead>\n",
       "    <tr style=\"text-align: right;\">\n",
       "      <th></th>\n",
       "      <th>ax+b</th>\n",
       "      <th>x</th>\n",
       "      <th>y</th>\n",
       "      <th>y*</th>\n",
       "    </tr>\n",
       "  </thead>\n",
       "  <tbody>\n",
       "    <tr>\n",
       "      <th>0</th>\n",
       "      <td>1.666667</td>\n",
       "      <td>0</td>\n",
       "      <td>0.6</td>\n",
       "      <td>0.518135</td>\n",
       "    </tr>\n",
       "    <tr>\n",
       "      <th>1</th>\n",
       "      <td>4.000000</td>\n",
       "      <td>1</td>\n",
       "      <td>0.5</td>\n",
       "      <td>0.566572</td>\n",
       "    </tr>\n",
       "    <tr>\n",
       "      <th>2</th>\n",
       "      <td>5.000000</td>\n",
       "      <td>2</td>\n",
       "      <td>1.0</td>\n",
       "      <td>0.974659</td>\n",
       "    </tr>\n",
       "    <tr>\n",
       "      <th>3</th>\n",
       "      <td>6.666667</td>\n",
       "      <td>3</td>\n",
       "      <td>1.5</td>\n",
       "      <td>1.485884</td>\n",
       "    </tr>\n",
       "  </tbody>\n",
       "</table>\n",
       "</div>"
      ],
      "text/plain": [
       "       ax+b  x    y        y*\n",
       "0  1.666667  0  0.6  0.518135\n",
       "1  4.000000  1  0.5  0.566572\n",
       "2  5.000000  2  1.0  0.974659\n",
       "3  6.666667  3  1.5  1.485884"
      ]
     },
     "metadata": {},
     "output_type": "display_data"
    },
    {
     "data": {
      "text/plain": [
       "<matplotlib.axes._subplots.AxesSubplot at 0x7f32be0b6278>"
      ]
     },
     "execution_count": 7,
     "metadata": {},
     "output_type": "execute_result"
    },
    {
     "data": {
      "image/png": "[encoded data removed]",
      "text/plain": [
       "<matplotlib.figure.Figure at 0x7f32be0fc358>"
      ]
     },
     "metadata": {},
     "output_type": "display_data"
    }
   ],
   "source": [
    "result = pd.DataFrame({\n",
    "    'x': x,\n",
    "    'y': y,\n",
    "    'ax+b': [5/3, 12/3, 15/3, 20/3]\n",
    "})\n",
    "\n",
    "def model(x):\n",
    "    return (x**2 + 1) / (1.6 * x + 1.93)\n",
    "\n",
    "result['y*'] = result['x'].apply(model)\n",
    "\n",
    "LeastSquaresSolution.plot_(result)"
   ]
  },
  {
   "cell_type": "code",
   "execution_count": 8,
   "metadata": {
    "collapsed": false
   },
   "outputs": [
    {
     "data": {
      "text/html": [
       "<div>\n",
       "<style>\n",
       "    .dataframe thead tr:only-child th {\n",
       "        text-align: right;\n",
       "    }\n",
       "\n",
       "    .dataframe thead th {\n",
       "        text-align: left;\n",
       "    }\n",
       "\n",
       "    .dataframe tbody tr th {\n",
       "        vertical-align: top;\n",
       "    }\n",
       "</style>\n",
       "<table border=\"1\" class=\"dataframe\">\n",
       "  <thead>\n",
       "    <tr style=\"text-align: right;\">\n",
       "      <th></th>\n",
       "      <th>x</th>\n",
       "      <th>y</th>\n",
       "      <th>y*</th>\n",
       "    </tr>\n",
       "  </thead>\n",
       "  <tbody>\n",
       "    <tr>\n",
       "      <th>0</th>\n",
       "      <td>0</td>\n",
       "      <td>2</td>\n",
       "      <td>1.954237</td>\n",
       "    </tr>\n",
       "    <tr>\n",
       "      <th>1</th>\n",
       "      <td>1</td>\n",
       "      <td>3</td>\n",
       "      <td>3.254374</td>\n",
       "    </tr>\n",
       "    <tr>\n",
       "      <th>2</th>\n",
       "      <td>2</td>\n",
       "      <td>6</td>\n",
       "      <td>5.419481</td>\n",
       "    </tr>\n",
       "    <tr>\n",
       "      <th>3</th>\n",
       "      <td>3</td>\n",
       "      <td>9</td>\n",
       "      <td>9.025013</td>\n",
       "    </tr>\n",
       "    <tr>\n",
       "      <th>4</th>\n",
       "      <td>4</td>\n",
       "      <td>15</td>\n",
       "      <td>15.029276</td>\n",
       "    </tr>\n",
       "  </tbody>\n",
       "</table>\n",
       "</div>"
      ],
      "text/plain": [
       "   x   y         y*\n",
       "0  0   2   1.954237\n",
       "1  1   3   3.254374\n",
       "2  2   6   5.419481\n",
       "3  3   9   9.025013\n",
       "4  4  15  15.029276"
      ]
     },
     "metadata": {},
     "output_type": "display_data"
    },
    {
     "data": {
      "text/plain": [
       "<matplotlib.axes._subplots.AxesSubplot at 0x7f32be081978>"
      ]
     },
     "execution_count": 8,
     "metadata": {},
     "output_type": "execute_result"
    },
    {
     "data": {
      "image/png": "[encoded data removed]",
      "text/plain": [
       "<matplotlib.figure.Figure at 0x7f32be08b780>"
      ]
     },
     "metadata": {},
     "output_type": "display_data"
    }
   ],
   "source": [
    "# P3.18\n",
    "\n",
    "from math import log\n",
    "from math import e\n",
    "\n",
    "x = list(range(5))\n",
    "y = [2, 3, 6, 9, 15]\n",
    "ln_y = [log(n) for n in y]\n",
    "\n",
    "result = solve_least_squares(x, ln_y)\n",
    "\n",
    "def model(x):\n",
    "    k = e ** 0.67\n",
    "    a = e ** 0.51\n",
    "    return k * (a ** x)\n",
    "\n",
    "y_approximation = [model(n) for n in x]\n",
    "\n",
    "df = pd.DataFrame({\n",
    "    'x': x,\n",
    "    'y': y,\n",
    "    'y*': y_approximation,\n",
    "})\n",
    "\n",
    "LeastSquaresSolution.plot_(df)"
   ]
  },
  {
   "cell_type": "code",
   "execution_count": 9,
   "metadata": {
    "collapsed": false
   },
   "outputs": [
    {
     "name": "stdout",
     "output_type": "stream",
     "text": [
      "input_data \n",
      " [[  1.97000000e+03   1.98000000e+03   1.99000000e+03   1.99500000e+03\n",
      "    2.00000000e+03   2.00500000e+03   2.01000000e+03   2.01500000e+03]\n",
      " [  1.28200000e+00   1.67400000e+00   2.00300000e+00   2.20100000e+00\n",
      "    2.29900000e+00   2.41000000e+00   2.58500000e+00   2.70000000e+00]]\n",
      "\n",
      "A \n",
      " [[  1.00000000e+00   1.97000000e+03]\n",
      " [  1.00000000e+00   1.98000000e+03]\n",
      " [  1.00000000e+00   1.99000000e+03]\n",
      " [  1.00000000e+00   1.99500000e+03]\n",
      " [  1.00000000e+00   2.00000000e+03]\n",
      " [  1.00000000e+00   2.00500000e+03]\n",
      " [  1.00000000e+00   2.01000000e+03]\n",
      " [  1.00000000e+00   2.01500000e+03]]\n",
      "\n",
      "y \n",
      " [ 1.282  1.674  2.003  2.201  2.299  2.41   2.585  2.7  ]\n",
      "\n",
      "At.A \n",
      " [[  8.00000000e+00   1.59650000e+04]\n",
      " [  1.59650000e+04   3.18617750e+07]]\n",
      "\n",
      "At.y \n",
      " [  1.71540000e+01   3.42834250e+04]\n",
      "\n",
      "x* \n",
      " [ -5.99608304e+01   3.11206166e-02]\n",
      "\n",
      "b \n",
      " -59.9608304432\n",
      "\n",
      "a \n",
      " 0.0311206165703\n",
      "\n",
      "equation \n",
      " y* = 0.031x + -59.961\n",
      "\n",
      "y* \n",
      " ['1.347', '1.658', '1.969', '2.125', '2.280', '2.436', '2.592', '2.747']\n",
      "\n",
      "squared_errors \n",
      " ['0.004', '0.000', '0.001', '0.006', '0.000', '0.001', '0.000', '0.002']\n",
      "\n",
      "residual \n",
      " 0.0146972793834\n",
      "\n"
     ]
    },
    {
     "data": {
      "text/html": [
       "<div>\n",
       "<style>\n",
       "    .dataframe thead tr:only-child th {\n",
       "        text-align: right;\n",
       "    }\n",
       "\n",
       "    .dataframe thead th {\n",
       "        text-align: left;\n",
       "    }\n",
       "\n",
       "    .dataframe tbody tr th {\n",
       "        vertical-align: top;\n",
       "    }\n",
       "</style>\n",
       "<table border=\"1\" class=\"dataframe\">\n",
       "  <thead>\n",
       "    <tr style=\"text-align: right;\">\n",
       "      <th></th>\n",
       "      <th>x</th>\n",
       "      <th>y</th>\n",
       "      <th>y*</th>\n",
       "      <th>y - y*</th>\n",
       "      <th>squared_errors</th>\n",
       "    </tr>\n",
       "  </thead>\n",
       "  <tbody>\n",
       "    <tr>\n",
       "      <th>0</th>\n",
       "      <td>1970</td>\n",
       "      <td>1.282</td>\n",
       "      <td>1.347</td>\n",
       "      <td>-0.0647842</td>\n",
       "      <td>0.004</td>\n",
       "    </tr>\n",
       "    <tr>\n",
       "      <th>1</th>\n",
       "      <td>1980</td>\n",
       "      <td>1.674</td>\n",
       "      <td>1.658</td>\n",
       "      <td>0.0160096</td>\n",
       "      <td>0.000</td>\n",
       "    </tr>\n",
       "    <tr>\n",
       "      <th>2</th>\n",
       "      <td>1990</td>\n",
       "      <td>2.003</td>\n",
       "      <td>1.969</td>\n",
       "      <td>0.0338035</td>\n",
       "      <td>0.001</td>\n",
       "    </tr>\n",
       "    <tr>\n",
       "      <th>3</th>\n",
       "      <td>1995</td>\n",
       "      <td>2.201</td>\n",
       "      <td>2.125</td>\n",
       "      <td>0.0762004</td>\n",
       "      <td>0.006</td>\n",
       "    </tr>\n",
       "    <tr>\n",
       "      <th>4</th>\n",
       "      <td>2000</td>\n",
       "      <td>2.299</td>\n",
       "      <td>2.280</td>\n",
       "      <td>0.0185973</td>\n",
       "      <td>0.000</td>\n",
       "    </tr>\n",
       "    <tr>\n",
       "      <th>5</th>\n",
       "      <td>2005</td>\n",
       "      <td>2.41</td>\n",
       "      <td>2.436</td>\n",
       "      <td>-0.0260058</td>\n",
       "      <td>0.001</td>\n",
       "    </tr>\n",
       "    <tr>\n",
       "      <th>6</th>\n",
       "      <td>2010</td>\n",
       "      <td>2.585</td>\n",
       "      <td>2.592</td>\n",
       "      <td>-0.00660886</td>\n",
       "      <td>0.000</td>\n",
       "    </tr>\n",
       "    <tr>\n",
       "      <th>7</th>\n",
       "      <td>2015</td>\n",
       "      <td>2.7</td>\n",
       "      <td>2.747</td>\n",
       "      <td>-0.0472119</td>\n",
       "      <td>0.002</td>\n",
       "    </tr>\n",
       "  </tbody>\n",
       "</table>\n",
       "</div>"
      ],
      "text/plain": [
       "      x      y     y*      y - y*  squared_errors\n",
       "0  1970  1.282  1.347  -0.0647842           0.004\n",
       "1  1980  1.674  1.658   0.0160096           0.000\n",
       "2  1990  2.003  1.969   0.0338035           0.001\n",
       "3  1995  2.201  2.125   0.0762004           0.006\n",
       "4  2000  2.299  2.280   0.0185973           0.000\n",
       "5  2005   2.41  2.436  -0.0260058           0.001\n",
       "6  2010  2.585  2.592 -0.00660886           0.000\n",
       "7  2015    2.7  2.747  -0.0472119           0.002"
      ]
     },
     "metadata": {},
     "output_type": "display_data"
    },
    {
     "data": {
      "text/plain": [
       "<matplotlib.axes._subplots.AxesSubplot at 0x7f32bdfd7b38>"
      ]
     },
     "execution_count": 9,
     "metadata": {},
     "output_type": "execute_result"
    },
    {
     "data": {
      "image/png": "[encoded data removed]",
      "text/plain": [
       "<matplotlib.figure.Figure at 0x7f32be0babe0>"
      ]
     },
     "metadata": {},
     "output_type": "display_data"
    }
   ],
   "source": [
    "# Entrega de cuadrados mínimos\n",
    "\n",
    "x = [1970, 1980, 1990, 1995, 2000, 2005, 2010, 2015]\n",
    "y = [1.282, 1.674, 2.003, 2.201, 2.299, 2.410, 2.585, 2.7]\n",
    "\n",
    "result = solve_least_squares(x, y)\n",
    "result.pprint()\n",
    "result.plot()"
   ]
  },
  {
   "cell_type": "code",
   "execution_count": 15,
   "metadata": {
    "collapsed": false
   },
   "outputs": [
    {
     "name": "stdout",
     "output_type": "stream",
     "text": [
      "input_data \n",
      " [[ 7.58578882  7.59085212  7.59588992  7.59839933  7.60090246  7.60339934\n",
      "   7.60589     7.60837447]\n",
      " [ 0.24842136  0.51521597  0.69464606  0.7889118   0.83247425  0.87962675\n",
      "   0.94972551  0.99325177]]\n",
      "\n",
      "A \n",
      " [[ 1.          7.58578882]\n",
      " [ 1.          7.59085212]\n",
      " [ 1.          7.59588992]\n",
      " [ 1.          7.59839933]\n",
      " [ 1.          7.60090246]\n",
      " [ 1.          7.60339934]\n",
      " [ 1.          7.60589   ]\n",
      " [ 1.          7.60837447]]\n",
      "\n",
      "y \n",
      " [ 0.24842136  0.51521597  0.69464606  0.7889118   0.83247425  0.87962675\n",
      "  0.94972551  0.99325177]\n",
      "\n",
      "At.A \n",
      " [[   8.           60.78949647]\n",
      " [  60.78949647  461.92076859]]\n",
      "\n",
      "At.y \n",
      " [  5.90227346  44.86257026]\n",
      "\n",
      "x* \n",
      " [-241.84902281   31.9248319 ]\n",
      "\n",
      "b \n",
      " -241.849022807\n",
      "\n",
      "a \n",
      " 31.9248318987\n",
      "\n",
      "equation \n",
      " y* = 31.925x + -241.849\n",
      "\n",
      "y* \n",
      " ['0.326', '0.488', '0.648', '0.729', '0.809', '0.888', '0.968', '1.047']\n",
      "\n",
      "squared_errors \n",
      " ['0.006', '0.001', '0.002', '0.004', '0.001', '0.000', '0.000', '0.003']\n",
      "\n",
      "residual \n",
      " 0.0164152417419\n",
      "\n"
     ]
    }
   ],
   "source": [
    "# Entrega. Punto b.\n",
    "\n",
    "t = [1970, 1980, 1990, 1995, 2000, 2005, 2010, 2015]\n",
    "y = [1.282, 1.674, 2.003, 2.201, 2.299, 2.410, 2.585, 2.7]\n",
    "ln_y = [log(n) for n in y]\n",
    "ln_t = [log(n) for n in t]\n",
    "\n",
    "y_tilda = ln_y\n",
    "t_tilda = ln_t\n",
    "\n",
    "result = solve_least_squares(t_tilda, y_tilda)\n",
    "result.pprint()\n",
    "\n"
   ]
  },
  {
   "cell_type": "code",
   "execution_count": null,
   "metadata": {
    "collapsed": true
   },
   "outputs": [],
   "source": []
  },
  {
   "cell_type": "code",
   "execution_count": 25,
   "metadata": {
    "collapsed": false
   },
   "outputs": [
    {
     "data": {
      "text/plain": [
       "[[1, 2], [3, -4]]"
      ]
     },
     "metadata": {},
     "output_type": "display_data"
    },
    {
     "name": "stdout",
     "output_type": "stream",
     "text": [
      "det = 0\n"
     ]
    },
    {
     "data": {
      "text/plain": [
       "[[6, 5], [0.6, 0.5]]"
      ]
     },
     "metadata": {},
     "output_type": "display_data"
    },
    {
     "name": "stdout",
     "output_type": "stream",
     "text": [
      "det = 0\n"
     ]
    },
    {
     "data": {
      "text/plain": [
       "[[-2, 3, 1], [4, 6, 5], [0, 2, 1]]"
      ]
     },
     "metadata": {},
     "output_type": "display_data"
    },
    {
     "name": "stdout",
     "output_type": "stream",
     "text": [
      "det = 0\n"
     ]
    },
    {
     "data": {
      "text/plain": [
       "[[-2, 1, 1], [4, -2, 4], [2, -1, 5]]"
      ]
     },
     "metadata": {},
     "output_type": "display_data"
    },
    {
     "name": "stdout",
     "output_type": "stream",
     "text": [
      "det = 0\n"
     ]
    }
   ],
   "source": [
    "from fractions import Fraction\n",
    "from numpy.linalg import det\n",
    "\n",
    "ex_1 = [\n",
    "    [[1, 2],\n",
    "     [3, -4]],\n",
    "    [[6, 5],\n",
    "     [3/5, 1/2]],\n",
    "    [[-2, 3, 1],\n",
    "     [4, 6, 5],\n",
    "     [0, 2, 1]],\n",
    "    [[-2, 1, 1],\n",
    "     [4, -2, 4],\n",
    "     [2, -1, 5]]\n",
    "]\n",
    "\n",
    "for matrix in ex_1:\n",
    "    display(matrix)\n",
    "    determinant = np.around(det(matrix), decimals=5) # Deals with annoying small rounding errors\n",
    "    determinant = int(determinant) if determinant.is_integer() else determinant\n",
    "    print(\"det = {}\".format(rounded_det))\n"
   ]
  },
  {
   "cell_type": "code",
   "execution_count": null,
   "metadata": {
    "collapsed": true
   },
   "outputs": [],
   "source": []
  },
  {
   "cell_type": "code",
   "execution_count": null,
   "metadata": {
    "collapsed": true
   },
   "outputs": [],
   "source": []
  },
  {
   "cell_type": "code",
   "execution_count": null,
   "metadata": {
    "collapsed": true
   },
   "outputs": [],
   "source": []
  },
  {
   "cell_type": "code",
   "execution_count": null,
   "metadata": {
    "collapsed": true
   },
   "outputs": [],
   "source": []
  },
  {
   "cell_type": "code",
   "execution_count": null,
   "metadata": {
    "collapsed": true
   },
   "outputs": [],
   "source": []
  },
  {
   "cell_type": "code",
   "execution_count": null,
   "metadata": {
    "collapsed": true
   },
   "outputs": [],
   "source": []
  },
  {
   "cell_type": "code",
   "execution_count": null,
   "metadata": {
    "collapsed": true
   },
   "outputs": [],
   "source": []
  },
  {
   "cell_type": "code",
   "execution_count": null,
   "metadata": {
    "collapsed": true
   },
   "outputs": [],
   "source": []
  },
  {
   "cell_type": "code",
   "execution_count": null,
   "metadata": {
    "collapsed": true
   },
   "outputs": [],
   "source": []
  },
  {
   "cell_type": "code",
   "execution_count": null,
   "metadata": {
    "collapsed": true
   },
   "outputs": [],
   "source": []
  },
  {
   "cell_type": "code",
   "execution_count": null,
   "metadata": {
    "collapsed": true
   },
   "outputs": [],
   "source": []
  },
  {
   "cell_type": "code",
   "execution_count": 11,
   "metadata": {
    "collapsed": false
   },
   "outputs": [
    {
     "data": {
      "text/plain": [
       "matrix([[ 1,  3,  3,  1],\n",
       "        [ 2,  6,  9,  5],\n",
       "        [-1, -3,  3,  5]])"
      ]
     },
     "execution_count": 11,
     "metadata": {},
     "output_type": "execute_result"
    }
   ],
   "source": [
    "%matplotlib inline\n",
    "\n",
    "from scipy import linalg\n",
    "import numpy as np\n",
    "import pandas as pd\n",
    "import matplotlib.pyplot as plt\n",
    "import seaborn as sns\n",
    "\n",
    "rows = [\n",
    "    [1, 3, 3, 1],\n",
    "    [2, 6, 9, 5],\n",
    "    [-1, -3, 3, 5]\n",
    "]\n",
    "\n",
    "Ab = np.matrix(rows)\n",
    "A = Ab[:,:3]\n",
    "b = Ab[:, 3]\n",
    "Ab"
   ]
  },
  {
   "cell_type": "code",
   "execution_count": 12,
   "metadata": {
    "collapsed": false
   },
   "outputs": [
    {
     "data": {
      "image/png": "[encoded data removed]",
      "text/plain": [
       "<matplotlib.figure.Figure at 0x7f32be38d400>"
      ]
     },
     "metadata": {},
     "output_type": "display_data"
    },
    {
     "data": {
      "text/plain": [
       "<function __main__.draw>"
      ]
     },
     "execution_count": 12,
     "metadata": {},
     "output_type": "execute_result"
    }
   ],
   "source": [
    "from ipywidgets import interact\n",
    "\n",
    "import numpy as np\n",
    "from mpl_toolkits.mplot3d import Axes3D\n",
    "import matplotlib.pyplot as plt\n",
    "import random\n",
    "\n",
    "def compute_z(x, y):\n",
    "    return - (1/3) * x - (2/3) * y\n",
    "\n",
    "def plot_vector(ax, x, y, z):\n",
    "    ax.plot(xs=[0, x], ys=[0, y], zs=[0, z])\n",
    "\n",
    "def draw(elevation=30, angle=45):\n",
    "    fig = plt.figure(figsize=(15, 13))\n",
    "    ax = fig.add_subplot(111, projection='3d')\n",
    "#     x = y = np.arange(-3.0, 3.0, 0.05)\n",
    "#     X, Y = np.meshgrid(x, y)\n",
    "#     zs = np.array([compute_z(x,y) for x,y in zip(np.ravel(X), np.ravel(Y))])\n",
    "#     Z = zs.reshape(X.shape)\n",
    "#     ax.plot_surface(X, Y, Z)\n",
    "\n",
    "    ax.set_xlabel('X Label')\n",
    "    ax.set_ylabel('Y Label')\n",
    "    ax.set_zlabel('Z Label')\n",
    "    \n",
    "    ax.view_init(elevation, 360 - angle)\n",
    "    plot_vector(ax, 1, 2, 3)\n",
    "    plot_vector(ax, 1, 1, -1)\n",
    "    plot_vector(ax, -2, 1, 0)\n",
    "    \n",
    "    plt.show()\n",
    "    \n",
    "interact(draw, elevation=(0, 100, 10), angle=(0, 360, 10))"
   ]
  },
  {
   "cell_type": "code",
   "execution_count": null,
   "metadata": {
    "collapsed": true
   },
   "outputs": [],
   "source": []
  },
  {
   "cell_type": "code",
   "execution_count": null,
   "metadata": {
    "collapsed": true
   },
   "outputs": [],
   "source": []
  },
  {
   "cell_type": "code",
   "execution_count": null,
   "metadata": {
    "collapsed": true
   },
   "outputs": [],
   "source": []
  },
  {
   "cell_type": "code",
   "execution_count": null,
   "metadata": {
    "collapsed": true
   },
   "outputs": [],
   "source": []
  },
  {
   "cell_type": "code",
   "execution_count": null,
   "metadata": {
    "collapsed": true
   },
   "outputs": [],
   "source": []
  },
  {
   "cell_type": "code",
   "execution_count": null,
   "metadata": {
    "collapsed": true
   },
   "outputs": [],
   "source": []
  },
  {
   "cell_type": "code",
   "execution_count": null,
   "metadata": {
    "collapsed": true
   },
   "outputs": [],
   "source": []
  },
  {
   "cell_type": "code",
   "execution_count": null,
   "metadata": {
    "collapsed": true
   },
   "outputs": [],
   "source": []
  },
  {
   "cell_type": "code",
   "execution_count": null,
   "metadata": {
    "collapsed": true
   },
   "outputs": [],
   "source": []
  },
  {
   "cell_type": "code",
   "execution_count": null,
   "metadata": {
    "collapsed": true
   },
   "outputs": [],
   "source": []
  },
  {
   "cell_type": "code",
   "execution_count": null,
   "metadata": {
    "collapsed": true
   },
   "outputs": [],
   "source": []
  },
  {
   "cell_type": "code",
   "execution_count": null,
   "metadata": {
    "collapsed": true
   },
   "outputs": [],
   "source": []
  },
  {
   "cell_type": "code",
   "execution_count": null,
   "metadata": {
    "collapsed": true
   },
   "outputs": [],
   "source": []
  },
  {
   "cell_type": "code",
   "execution_count": null,
   "metadata": {
    "collapsed": true
   },
   "outputs": [],
   "source": []
  },
  {
   "cell_type": "code",
   "execution_count": null,
   "metadata": {
    "collapsed": true
   },
   "outputs": [],
   "source": []
  },
  {
   "cell_type": "code",
   "execution_count": null,
   "metadata": {
    "collapsed": true
   },
   "outputs": [],
   "source": []
  },
  {
   "cell_type": "code",
   "execution_count": null,
   "metadata": {
    "collapsed": true
   },
   "outputs": [],
   "source": []
  },
  {
   "cell_type": "code",
   "execution_count": null,
   "metadata": {
    "collapsed": true
   },
   "outputs": [],
   "source": []
  },
  {
   "cell_type": "code",
   "execution_count": null,
   "metadata": {
    "collapsed": true
   },
   "outputs": [],
   "source": []
  },
  {
   "cell_type": "code",
   "execution_count": null,
   "metadata": {
    "collapsed": true
   },
   "outputs": [],
   "source": []
  },
  {
   "cell_type": "code",
   "execution_count": null,
   "metadata": {
    "collapsed": true
   },
   "outputs": [],
   "source": []
  },
  {
   "cell_type": "code",
   "execution_count": null,
   "metadata": {
    "collapsed": true
   },
   "outputs": [],
   "source": []
  }
 ],
 "metadata": {
  "kernelspec": {
   "display_name": "Python 3",
   "language": "python",
   "name": "python3"
  },
  "language_info": {
   "codemirror_mode": {
    "name": "ipython",
    "version": 3
   },
   "file_extension": ".py",
   "mimetype": "text/x-python",
   "name": "python",
   "nbconvert_exporter": "python",
   "pygments_lexer": "ipython3",
   "version": "3.5.2"
  }
 },
 "nbformat": 4,
 "nbformat_minor": 0
}
