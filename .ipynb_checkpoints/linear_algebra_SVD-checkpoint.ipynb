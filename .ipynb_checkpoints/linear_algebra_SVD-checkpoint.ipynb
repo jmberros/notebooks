{
 "cells": [
  {
   "cell_type": "code",
   "execution_count": 1,
   "metadata": {
    "collapsed": true
   },
   "outputs": [],
   "source": [
    "from scipy import linalg\n",
    "import numpy as np\n",
    "import pandas as pd\n",
    "import math\n",
    "from math import sqrt\n",
    "\n",
    "np.set_printoptions(precision=4, suppress=True)\n",
    "pd.set_option('display.float_format', lambda x: '%.3f' % x)"
   ]
  },
  {
   "cell_type": "markdown",
   "metadata": {},
   "source": [
    "### P6 - 12 b"
   ]
  },
  {
   "cell_type": "code",
   "execution_count": 2,
   "metadata": {
    "collapsed": false
   },
   "outputs": [
    {
     "name": "stdout",
     "output_type": "stream",
     "text": [
      "A =\n",
      "[[ 1 -2]\n",
      " [-1  2]\n",
      " [ 1  4]]\n",
      "\n",
      "At A  = =\n",
      "[[ 3  0]\n",
      " [ 0 24]]\n",
      "\n",
      "sigmas squared =\n",
      "[  3.  24.]\n",
      "\n",
      "eigenvectors of At A =\n",
      "[[ 1.  0.]\n",
      " [ 0.  1.]]\n",
      "\n",
      "singular values of A =\n",
      "[1.73, 4.9]\n",
      "\n"
     ]
    }
   ],
   "source": [
    "def show(name, element):\n",
    "    print(name, '=')\n",
    "    print(element)\n",
    "    print()\n",
    "\n",
    "def svd(A):\n",
    "    show('A', A)\n",
    "    At_A = A.transpose() @ A\n",
    "    show('At A  =', At_A)\n",
    "    sigmas_squared, eigenvectors = np.linalg.eig(At_A)\n",
    "    show('sigmas squared', sigmas_squared)\n",
    "    show('eigenvectors of At A', eigenvectors)\n",
    "    singular_values = sorted(math.sqrt(sigma_squared) for sigma_squared in sigmas_squared)\n",
    "    show('singular values of A', [round(n, 2) for n in singular_values])\n",
    "    V = np.array([])\n",
    "    \n",
    "A = np.array([[1, -2], [-1, 2], [1, 4]])\n",
    "svd(A)"
   ]
  },
  {
   "cell_type": "code",
   "execution_count": 3,
   "metadata": {
    "collapsed": false
   },
   "outputs": [
    {
     "data": {
      "text/plain": [
       "(4.898979485566356, 1.7320508075688772)"
      ]
     },
     "execution_count": 3,
     "metadata": {},
     "output_type": "execute_result"
    }
   ],
   "source": [
    "math.sqrt(24), math.sqrt(3)"
   ]
  },
  {
   "cell_type": "code",
   "execution_count": 4,
   "metadata": {
    "collapsed": false
   },
   "outputs": [
    {
     "data": {
      "text/plain": [
       "0.20412414523193154"
      ]
     },
     "execution_count": 4,
     "metadata": {},
     "output_type": "execute_result"
    }
   ],
   "source": [
    "1/sqrt(42)\n",
    "1/(2*sqrt(6))"
   ]
  },
  {
   "cell_type": "code",
   "execution_count": 5,
   "metadata": {
    "collapsed": false
   },
   "outputs": [],
   "source": [
    "U, sigmas, V = linalg.svd(A)"
   ]
  },
  {
   "cell_type": "code",
   "execution_count": 6,
   "metadata": {
    "collapsed": false
   },
   "outputs": [
    {
     "data": {
      "text/plain": [
       "array([[ 0.4082, -0.5774, -0.7071],\n",
       "       [-0.4082,  0.5774, -0.7071],\n",
       "       [-0.8165, -0.5774, -0.    ]])"
      ]
     },
     "execution_count": 6,
     "metadata": {},
     "output_type": "execute_result"
    }
   ],
   "source": [
    "U"
   ]
  },
  {
   "cell_type": "code",
   "execution_count": null,
   "metadata": {
    "collapsed": false
   },
   "outputs": [],
   "source": [
    "m, n = (2, 3)\n",
    "sigma = np.zeros((m, n))\n",
    "sigma_pinv = np.zeros((n, m))\n",
    "\n",
    "for i in range(min(m, n)):\n",
    "    sigma[i, i] = sigmas[i]\n",
    "    sigma_pinv[i, i] = 1/sigmas[i]\n",
    "\n",
    "sigma_pinv"
   ]
  },
  {
   "cell_type": "code",
   "execution_count": null,
   "metadata": {
    "collapsed": false
   },
   "outputs": [],
   "source": [
    "my_U = np.array([\n",
    "        [-1/sqrt(6), 1/sqrt(6), 2/sqrt(6)],\n",
    "        [1/sqrt(3), -1/sqrt(3), 1/sqrt(3)],\n",
    "        [1/sqrt(2), 1/sqrt(2), 0]\n",
    "    ]).transpose()\n",
    "\n",
    "U.transpose() @ U"
   ]
  },
  {
   "cell_type": "code",
   "execution_count": null,
   "metadata": {
    "collapsed": false
   },
   "outputs": [],
   "source": [
    "np.linalg.pinv(A)"
   ]
  },
  {
   "cell_type": "markdown",
   "metadata": {},
   "source": [
    "A = np.array([[1, -1], [-2, 2], [2, -2]])\n",
    "A.transpose() @ A"
   ]
  },
  {
   "cell_type": "code",
   "execution_count": null,
   "metadata": {
    "collapsed": false
   },
   "outputs": [],
   "source": [
    "np.linalg.pinv(np.array([[1, 1], [2, 2]]))"
   ]
  },
  {
   "cell_type": "code",
   "execution_count": null,
   "metadata": {
    "collapsed": false
   },
   "outputs": [],
   "source": [
    "A = np.array([\n",
    "        [1, 2], [0, 3]\n",
    "    ])\n",
    "\n",
    "A.transpose() @ A"
   ]
  },
  {
   "cell_type": "code",
   "execution_count": null,
   "metadata": {
    "collapsed": false
   },
   "outputs": [],
   "source": [
    "A = np.array([[1, -2], [-1, 2], [1, 4]])\n",
    "A_pinv = np.linalg.pinv(A)\n",
    "A_pinv"
   ]
  },
  {
   "cell_type": "code",
   "execution_count": null,
   "metadata": {
    "collapsed": false
   },
   "outputs": [],
   "source": []
  },
  {
   "cell_type": "code",
   "execution_count": null,
   "metadata": {
    "collapsed": false
   },
   "outputs": [],
   "source": [
    "A = np.array([[1, 100], [0, 1]])\n",
    "np.linalg.svd(A)\n",
    "np.linalg.norm(A, ord=2)\n",
    "np.linalg.norm(np.linalg.inv(A), ord=2)"
   ]
  },
  {
   "cell_type": "code",
   "execution_count": null,
   "metadata": {
    "collapsed": false
   },
   "outputs": [],
   "source": [
    "A = np.array([[4.1, 2.8], [9.7, 6.6]])\n",
    "b = np.array([4.1, 9.7])\n",
    "\n",
    "np.linalg.solve(A, b)\n",
    "\n",
    "c = np.array([4.11, 9.7])\n",
    "np.linalg.solve(A, c)\n",
    "\n",
    "np.linalg.cond(A, 2)\n",
    "_, singular_values, _ = np.linalg.svd(A)\n",
    "sigma_1, sigma_2 = singular_values\n",
    "sigma_1 / sigma_2"
   ]
  },
  {
   "cell_type": "code",
   "execution_count": null,
   "metadata": {
    "collapsed": false
   },
   "outputs": [],
   "source": [
    "C = np.array([[1, 0], [0, -2]])\n",
    "np.linalg.svd(C)"
   ]
  },
  {
   "cell_type": "code",
   "execution_count": null,
   "metadata": {
    "collapsed": false
   },
   "outputs": [],
   "source": [
    "B = np.array([[-4, 2]])\n",
    "np.linalg.svd(B)"
   ]
  },
  {
   "cell_type": "code",
   "execution_count": null,
   "metadata": {
    "collapsed": false
   },
   "outputs": [],
   "source": [
    "D = np.array([[1, -1, 2], [-1, 1, 2]])\n",
    "np.linalg.svd(D)"
   ]
  },
  {
   "cell_type": "code",
   "execution_count": null,
   "metadata": {
    "collapsed": false
   },
   "outputs": [],
   "source": [
    "A = np.array([[1,2,2], [2,1,2], [2,2,1]])\n",
    "np.linalg.eig(A)"
   ]
  },
  {
   "cell_type": "code",
   "execution_count": null,
   "metadata": {
    "collapsed": false
   },
   "outputs": [],
   "source": [
    "A = np.array([[1,2],[0,0]])\n",
    "np.linalg.eig(A)"
   ]
  },
  {
   "cell_type": "code",
   "execution_count": null,
   "metadata": {
    "collapsed": false
   },
   "outputs": [],
   "source": [
    "A = np.array([[1/2, 1/2], [1, 0]])\n",
    "np.linalg.eig(A)\n",
    "\n",
    "V = np.array([[1, 1], [1, -2]])\n",
    "V_inv = np.linalg.inv(V)\n",
    "D = np.diag([1, -1/2])\n",
    "V @ D @ V_inv"
   ]
  },
  {
   "cell_type": "code",
   "execution_count": null,
   "metadata": {
    "collapsed": false
   },
   "outputs": [],
   "source": [
    "A = np.array([[9/10, 1/10], [1/5, 4/5]])\n",
    "V = np.array([[1, -1], [1, 2]])\n",
    "V_inv = np.linalg.inv(V)\n",
    "D = np.diag([1, (7/10)])\n",
    "(V @ D @ V_inv)"
   ]
  },
  {
   "cell_type": "code",
   "execution_count": null,
   "metadata": {
    "collapsed": false
   },
   "outputs": [],
   "source": [
    "A = np.array([[-4, 2]])\n",
    "At_A = A.transpose() @ A\n",
    "np.linalg.eig(At_A)"
   ]
  },
  {
   "cell_type": "code",
   "execution_count": null,
   "metadata": {
    "collapsed": false
   },
   "outputs": [],
   "source": [
    "A = np.array([[1, 0], [0, -2]])\n",
    "np.linalg.cond(A)"
   ]
  },
  {
   "cell_type": "code",
   "execution_count": null,
   "metadata": {
    "collapsed": false
   },
   "outputs": [],
   "source": [
    "A = np.array([[1, -2], [-1, 2], [1, 4]])\n",
    "A.transpose() @ A"
   ]
  },
  {
   "cell_type": "code",
   "execution_count": null,
   "metadata": {
    "collapsed": false
   },
   "outputs": [],
   "source": [
    "A = np.array([[1,2],[0,3]])\n",
    "A.transpose() @ A\n",
    "\n",
    "np.linalg.svd(A)\n",
    "l1 = 7 + 2*sqrt(10)\n",
    "b = np.array([[1-l1, 2], [2, 13-l1]])\n",
    "np.linalg.det(b)"
   ]
  },
  {
   "cell_type": "code",
   "execution_count": null,
   "metadata": {
    "collapsed": false
   },
   "outputs": [],
   "source": [
    "A = np.array([[0, 1, 0, 0], [0, 0, 1, 0], [0, 0, 0, 1], [1, 0, 0, 0]])\n",
    "np.linalg.eig(A)"
   ]
  },
  {
   "cell_type": "code",
   "execution_count": null,
   "metadata": {
    "collapsed": true
   },
   "outputs": [],
   "source": [
    "import matplotlib.pyplot as plt\n",
    "import pandas as pd\n",
    "\n",
    "range()"
   ]
  },
  {
   "cell_type": "code",
   "execution_count": null,
   "metadata": {
    "collapsed": true
   },
   "outputs": [],
   "source": []
  },
  {
   "cell_type": "code",
   "execution_count": null,
   "metadata": {
    "collapsed": true
   },
   "outputs": [],
   "source": []
  },
  {
   "cell_type": "code",
   "execution_count": null,
   "metadata": {
    "collapsed": true
   },
   "outputs": [],
   "source": []
  },
  {
   "cell_type": "code",
   "execution_count": null,
   "metadata": {
    "collapsed": true
   },
   "outputs": [],
   "source": []
  },
  {
   "cell_type": "code",
   "execution_count": null,
   "metadata": {
    "collapsed": true
   },
   "outputs": [],
   "source": []
  },
  {
   "cell_type": "code",
   "execution_count": null,
   "metadata": {
    "collapsed": true
   },
   "outputs": [],
   "source": []
  },
  {
   "cell_type": "code",
   "execution_count": null,
   "metadata": {
    "collapsed": true
   },
   "outputs": [],
   "source": []
  },
  {
   "cell_type": "code",
   "execution_count": null,
   "metadata": {
    "collapsed": true
   },
   "outputs": [],
   "source": []
  },
  {
   "cell_type": "code",
   "execution_count": null,
   "metadata": {
    "collapsed": true
   },
   "outputs": [],
   "source": []
  },
  {
   "cell_type": "code",
   "execution_count": null,
   "metadata": {
    "collapsed": true
   },
   "outputs": [],
   "source": []
  },
  {
   "cell_type": "code",
   "execution_count": null,
   "metadata": {
    "collapsed": true
   },
   "outputs": [],
   "source": []
  },
  {
   "cell_type": "code",
   "execution_count": null,
   "metadata": {
    "collapsed": true
   },
   "outputs": [],
   "source": []
  },
  {
   "cell_type": "code",
   "execution_count": null,
   "metadata": {
    "collapsed": true
   },
   "outputs": [],
   "source": []
  },
  {
   "cell_type": "code",
   "execution_count": null,
   "metadata": {
    "collapsed": true
   },
   "outputs": [],
   "source": []
  }
 ],
 "metadata": {
  "kernelspec": {
   "display_name": "Python 3",
   "language": "python",
   "name": "python3"
  },
  "language_info": {
   "codemirror_mode": {
    "name": "ipython",
    "version": 3
   },
   "file_extension": ".py",
   "mimetype": "text/x-python",
   "name": "python",
   "nbconvert_exporter": "python",
   "pygments_lexer": "ipython3",
   "version": "3.5.2"
  }
 },
 "nbformat": 4,
 "nbformat_minor": 0
}
